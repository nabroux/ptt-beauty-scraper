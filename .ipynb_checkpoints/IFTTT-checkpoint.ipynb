{
 "cells": [
  {
   "cell_type": "code",
   "execution_count": 1,
   "metadata": {},
   "outputs": [],
   "source": [
    "from ptt import Board\n",
    "import requests\n",
    "import time\n",
    "import re\n",
    "collected = []"
   ]
  },
  {
   "cell_type": "code",
   "execution_count": null,
   "metadata": {},
   "outputs": [],
   "source": [
    "reg_imgur_file = re.compile('http[s]?://[i.]*imgur.com/\\w+\\.(?:jpg|png|gif)')\n",
    "\n",
    "ptt_url = 'https://www.ptt.cc/'\n",
    "Board_Name = 'beauty'\n",
    "keywords = ['']\n",
    "app_name = 'ptb'\n",
    "token = 'IeGZKKrGvDoIt4QlQG7Qd'\n",
    "\n",
    "restart_time = 300\n",
    "\n",
    "while True:\n",
    "    first_page = Board(Board_Name)\n",
    "    for post in first_page:\n",
    "        if post.isremoved:\n",
    "            continue\n",
    "        article = post.read()\n",
    "        title = article.title\n",
    "        \n",
    "        if '公告' not in title:\n",
    "            content = article.content\n",
    "            images = reg_imgur_file.findall(content)\n",
    "            for image in images:\n",
    "                if image not in collected:\n",
    "                    collected.append(image)\n",
    "                    value1 = image\n",
    "                    url = 'https://maker.ifttt.com/trigger/{}/with/key/{}?value1={}'.format(app_name, token, value1)\n",
    "                    requests.get(url)\n",
    "\n",
    "        time.sleep(30)\n",
    "        \n",
    "    time.sleep(restart_time)\n",
    "    "
   ]
  },
  {
   "cell_type": "code",
   "execution_count": null,
   "metadata": {},
   "outputs": [],
   "source": []
  }
 ],
 "metadata": {
  "kernelspec": {
   "display_name": "Python 3",
   "language": "python",
   "name": "python3"
  },
  "language_info": {
   "codemirror_mode": {
    "name": "ipython",
    "version": 3
   },
   "file_extension": ".py",
   "mimetype": "text/x-python",
   "name": "python",
   "nbconvert_exporter": "python",
   "pygments_lexer": "ipython3",
   "version": "3.7.3"
  }
 },
 "nbformat": 4,
 "nbformat_minor": 2
}
